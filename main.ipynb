{
 "cells": [
  {
   "cell_type": "code",
   "execution_count": 1,
   "metadata": {},
   "outputs": [
    {
     "name": "stderr",
     "output_type": "stream",
     "text": [
      "c:\\00 My Files\\genai\\up2date\\.venv\\lib\\site-packages\\tqdm\\auto.py:21: TqdmWarning: IProgress not found. Please update jupyter and ipywidgets. See https://ipywidgets.readthedocs.io/en/stable/user_install.html\n",
      "  from .autonotebook import tqdm as notebook_tqdm\n"
     ]
    }
   ],
   "source": [
    "from rss_function_based import get_rss_feed\n",
    "from packages.dspy_utils import FeedParserForHTML\n",
    "from packages.helper import fetch_html"
   ]
  },
  {
   "cell_type": "code",
   "execution_count": 53,
   "metadata": {},
   "outputs": [],
   "source": [
    "from bs4 import BeautifulSoup\n",
    "import re"
   ]
  },
  {
   "cell_type": "code",
   "execution_count": 178,
   "metadata": {},
   "outputs": [],
   "source": [
    "url = \"https://www.anthropic.com/news\""
   ]
  },
  {
   "cell_type": "code",
   "execution_count": 179,
   "metadata": {},
   "outputs": [],
   "source": [
    "html = fetch_html(url)"
   ]
  },
  {
   "cell_type": "code",
   "execution_count": 180,
   "metadata": {},
   "outputs": [],
   "source": [
    "parser = FeedParserForHTML()"
   ]
  },
  {
   "cell_type": "code",
   "execution_count": 181,
   "metadata": {},
   "outputs": [],
   "source": [
    "html, soup, text = parser.process_html(html)"
   ]
  },
  {
   "cell_type": "code",
   "execution_count": 182,
   "metadata": {},
   "outputs": [
    {
     "data": {
      "text/plain": [
       "['Claude 3.7 Sonnet and Claude Code',\n",
       " 'Anthropic raises Series E at $61.5B post-money valuation',\n",
       " 'Introducing the Anthropic Economic Index',\n",
       " 'Token-saving updates on the Anthropic API',\n",
       " 'Get to production faster with the upgraded Anthropic Console',\n",
       " 'Anthropic’s Recommendations to OSTP for the U.S. AI Action Plan',\n",
       " 'Anthropic partners with U.S. National Labs for first 1,000 Scientist AI Jam',\n",
       " \"Introducing Anthropic's Transparency Hub\",\n",
       " 'Claude and Alexa+',\n",
       " 'Claude’s extended thinking',\n",
       " 'Anthropic signs MOU with UK Government to explore how AI can transform UK public services',\n",
       " 'Statement from Dario Amodei on the Paris AI Action Summit',\n",
       " 'The Anthropic Economic Index',\n",
       " 'Lyft to bring Claude to more than 40 million riders and over 1 million drivers',\n",
       " 'Introducing Citations on the Anthropic API',\n",
       " 'Anthropic achieves ISO 42001 certification for responsible AI',\n",
       " 'Alignment faking in large language models',\n",
       " 'Elections and AI in 2024: observations and learnings',\n",
       " 'Claude 3.5 Haiku on AWS Trainium2 and model distillation in Amazon Bedrock',\n",
       " 'Tailor Claude’s responses to your personal style',\n",
       " 'Introducing the Model Context Protocol',\n",
       " 'Powering the next generation of AI development with AWS',\n",
       " 'Improve your prompts in the developer console',\n",
       " 'The case for targeted regulation',\n",
       " 'Raising the bar on SWE-bench Verified with Claude 3.5 Sonnet',\n",
       " 'Claude 3.5 Sonnet on GitHub Copilot',\n",
       " 'Introducing the analysis tool in Claude.ai',\n",
       " 'Developing a computer use model',\n",
       " 'Introducing computer use, a new Claude 3.5 Sonnet, and Claude 3.5 Haiku',\n",
       " 'Announcing our updated Responsible Scaling Policy',\n",
       " 'U.S. Elections Readiness',\n",
       " 'Introducing the Message Batches API',\n",
       " 'Introducing Contextual Retrieval',\n",
       " 'Workspaces in the Anthropic API Console',\n",
       " 'Claude for Enterprise',\n",
       " 'Salesforce teams up with Anthropic to enhance Einstein capabilities with Claude',\n",
       " 'Artifacts are now generally available',\n",
       " 'Prompt caching with Claude',\n",
       " 'Expanding our model safety bug bounty program ',\n",
       " 'Claude is now available in Brazil',\n",
       " 'Anthropic partners with Menlo Ventures to launch Anthology Fund',\n",
       " 'Claude Android app ',\n",
       " 'Fine-tune Claude 3 Haiku in Amazon Bedrock',\n",
       " 'Evaluate prompts in the developer console',\n",
       " 'A new initiative for developing third-party model evaluations',\n",
       " 'Expanding access to Claude for government',\n",
       " 'Collaborate with Claude on Projects',\n",
       " 'Claude 3.5 Sonnet',\n",
       " 'Challenges in red teaming AI systems',\n",
       " 'Testing and mitigating elections-related risks',\n",
       " 'Introducing Claude to Canada',\n",
       " 'Claude can now use tools',\n",
       " \"Jay Kreps appointed to Anthropic's Board of Directors\",\n",
       " 'Golden Gate Claude',\n",
       " 'Krishna Rao joins Anthropic as Chief Financial Officer',\n",
       " 'Mapping the Mind of a Large Language Model',\n",
       " 'Generate better prompts in the developer console',\n",
       " 'Reflections on our Responsible Scaling Policy',\n",
       " 'Mike Krieger joins Anthropic as Chief Product Officer',\n",
       " 'Claude is now available in Europe',\n",
       " 'Updating our Usage Policy',\n",
       " 'Introducing the Claude Team plan and iOS app',\n",
       " 'Aligning on child safety principles',\n",
       " 'Many-shot jailbreaking',\n",
       " 'Third-party testing as a key ingredient of AI policy',\n",
       " 'Anthropic, AWS, and Accenture team up to build trusted solutions for enterprises',\n",
       " 'Claude 3 models on Vertex AI',\n",
       " 'Claude 3 Haiku: our fastest model yet',\n",
       " 'Introducing the next generation of Claude',\n",
       " 'Prompt engineering for business performance',\n",
       " 'Preparing for global elections in 2024',\n",
       " 'Expanded legal protections and improvements to our API',\n",
       " 'Long context prompting for Claude 2.1',\n",
       " 'Introducing Claude 2.1',\n",
       " 'Thoughts on the US Executive Order, G7 Code of Conduct, and Bletchley Park Summit',\n",
       " 'Dario Amodei’s prepared remarks from the AI Safety Summit on Anthropic’s Responsible Scaling Policy',\n",
       " 'Claude on Amazon Bedrock now available to every AWS customer',\n",
       " 'Expanding access to safer AI with Amazon',\n",
       " \"Prompt engineering for Claude's long context window\",\n",
       " \"Anthropic's Responsible Scaling Policy\",\n",
       " 'The Long-Term Benefit Trust',\n",
       " 'Anthropic partners with BCG',\n",
       " 'Introducing Claude Pro',\n",
       " 'Claude 2 on Amazon Bedrock',\n",
       " 'SKT Partnership Announcement',\n",
       " 'Releasing Claude Instant 1.2',\n",
       " 'Frontier Threats Red Teaming for AI Safety',\n",
       " 'Frontier Model Security',\n",
       " 'Claude']"
      ]
     },
     "execution_count": 182,
     "metadata": {},
     "output_type": "execute_result"
    }
   ],
   "source": [
    "titles = parser.title_identifier(text=text).content_list_titles\n",
    "titles"
   ]
  },
  {
   "cell_type": "code",
   "execution_count": 183,
   "metadata": {},
   "outputs": [],
   "source": [
    "def find_article_link_for_title(html_content, title):\n",
    "    soup = BeautifulSoup(html_content, 'html.parser')\n",
    "    \n",
    "    # Replace all escape sequences with a space\n",
    "    cleaned_title = re.sub(r'\\\\[xu][0-9a-fA-F]{2,4}|\\\\[nt]', ' ', title).strip()\n",
    "    # print(cleaned_title)\n",
    "    # Find the element containing the title\n",
    "    title_element = soup.find(string=lambda text: text and cleaned_title in text)\n",
    "    # Rest of the function remains the same\n",
    "    if title_element:\n",
    "        # Navigate up the tree until finding an anchor tag\n",
    "        current_element = title_element\n",
    "        while current_element and current_element.name != 'a':\n",
    "            current_element = current_element.parent\n",
    "            \n",
    "        # If we found an anchor tag, return its href attribute\n",
    "        if current_element and current_element.name == 'a' and current_element.has_attr('href'):\n",
    "            return current_element['href'], title_element\n",
    "        else:\n",
    "            return None, title_element\n",
    "    else:\n",
    "        return None, title_element"
   ]
  },
  {
   "cell_type": "code",
   "execution_count": 184,
   "metadata": {},
   "outputs": [],
   "source": [
    "def find_article_link_for_title(html_content, title):\n",
    "    soup = BeautifulSoup(html_content, 'html.parser')\n",
    "    \n",
    "    # Replace all escape sequences with a space\n",
    "    cleaned_title = re.sub(r'\\\\[xu][0-9a-fA-F]{2,4}|\\\\[nt]', ' ', title).strip()\n",
    "    # print(cleaned_title)\n",
    "    # Find the element containing the title\n",
    "    title_element = soup.find(string=lambda text: text and cleaned_title in text)\n",
    "    # Rest of the function remains the same\n",
    "    if title_element:\n",
    "        # Navigate up the tree until finding an anchor tag\n",
    "        current_element = title_element\n",
    "        while current_element and current_element.name != 'a':\n",
    "            current_element = current_element.parent\n",
    "            \n",
    "        # If we found an anchor tag, return its href attribute\n",
    "        if current_element and current_element.name == 'a' and current_element.has_attr('href'):\n",
    "            return current_element['href'], title_element\n",
    "        else:\n",
    "            return None, title_element\n",
    "    else:\n",
    "        return None, title_element"
   ]
  },
  {
   "cell_type": "code",
   "execution_count": 185,
   "metadata": {},
   "outputs": [
    {
     "name": "stdout",
     "output_type": "stream",
     "text": [
      "/news/claude-3-7-sonnet\n",
      "/news/anthropic-raises-series-e-at-usd61-5b-post-money-valuation\n",
      "/news/the-anthropic-economic-index\n",
      "/news/token-saving-updates\n",
      "/news/upgraded-anthropic-console\n",
      "/news/anthropic-s-recommendations-ostp-u-s-ai-action-plan\n",
      "/news/anthropic-partners-with-u-s-national-labs-for-first-1-000-scientist-ai-jam\n",
      "/news/introducing-anthropic-transparency-hub\n",
      "/news/claude-and-alexa-plus\n",
      "/research/visible-extended-thinking\n",
      "/news/mou-uk-government\n",
      "/news/paris-ai-summit\n",
      "/news/the-anthropic-economic-index\n",
      "/news/lyft-announcement\n",
      "/news/introducing-citations-api\n",
      "/news/anthropic-achieves-iso-42001-certification-for-responsible-ai\n",
      "/research/alignment-faking\n",
      "/news/elections-ai-2024\n",
      "/news/trainium2-and-distillation\n",
      "/news/styles\n",
      "/news/model-context-protocol\n",
      "/news/anthropic-amazon-trainium\n",
      "/news/prompt-improver\n",
      "/news/the-case-for-targeted-regulation\n",
      "/research/swe-bench-sonnet\n",
      "/news/github-copilot\n",
      "/news/analysis-tool\n",
      "/news/developing-computer-use\n",
      "/news/3-5-models-and-computer-use\n",
      "/news/announcing-our-updated-responsible-scaling-policy\n",
      "/news/us-elections-readiness\n",
      "/news/message-batches-api\n",
      "/news/contextual-retrieval\n",
      "/news/workspaces\n",
      "/news/claude-for-enterprise\n",
      "/news/salesforce-partnership\n",
      "/news/artifacts\n",
      "/news/prompt-caching\n",
      "/news/model-safety-bug-bounty\n",
      "/news/claude-brazil\n",
      "/news/anthropic-partners-with-menlo-ventures-to-launch-anthology-fund\n",
      "/news/android-app\n",
      "/news/fine-tune-claude-3-haiku\n",
      "/news/evaluate-prompts\n",
      "/news/a-new-initiative-for-developing-third-party-model-evaluations\n",
      "/news/expanding-access-to-claude-for-government\n",
      "/news/projects\n",
      "/research/swe-bench-sonnet\n",
      "/news/challenges-in-red-teaming-ai-systems\n",
      "/news/testing-and-mitigating-elections-related-risks\n",
      "/news/introducing-claude-to-canada\n",
      "/news/tool-use-ga\n",
      "/news/jay-kreps-appointed-to-board-of-directors\n",
      "/news/golden-gate-claude\n",
      "/news/krishna-rao-joins-anthropic\n",
      "/research/mapping-mind-language-model\n",
      "/news/prompt-generator\n",
      "/news/reflections-on-our-responsible-scaling-policy\n",
      "/news/mike-krieger-joins-anthropic\n",
      "/news/claude-europe\n",
      "/news/updating-our-usage-policy\n",
      "/news/team-plan-and-ios\n",
      "/news/child-safety-principles\n",
      "/research/many-shot-jailbreaking\n",
      "/news/third-party-testing\n",
      "/news/accenture-aws-anthropic\n",
      "/news/google-vertex-general-availability\n",
      "/news/claude-3-haiku\n",
      "/news/claude-3-family\n",
      "/news/prompt-engineering-for-business-performance\n",
      "/news/preparing-for-global-elections-in-2024\n",
      "/news/expanded-legal-protections-api-improvements\n",
      "/news/claude-2-1-prompting\n",
      "/news/claude-2-1\n",
      "/news/policy-recap-q4-2023\n",
      "/news/uk-ai-safety-summit\n",
      "/news/amazon-bedrock-general-availability\n",
      "/news/anthropic-amazon\n",
      "/news/prompting-long-context\n",
      "/news/anthropics-responsible-scaling-policy\n",
      "/news/the-long-term-benefit-trust\n",
      "/news/anthropic-bcg\n",
      "/news/claude-pro\n",
      "/news/claude-2-amazon-bedrock\n",
      "/news/skt-partnership-announcement\n",
      "/news/releasing-claude-instant-1-2\n",
      "/news/frontier-threats-red-teaming-for-ai-safety\n",
      "/news/frontier-model-security\n",
      "/news/claude-3-7-sonnet\n"
     ]
    }
   ],
   "source": [
    "outs = []\n",
    "for title in titles:\n",
    "    link,element = find_article_link_for_title(html, title)\n",
    "    outs.append([link,element])\n",
    "    print(link)"
   ]
  },
  {
   "cell_type": "code",
   "execution_count": 155,
   "metadata": {},
   "outputs": [
    {
     "name": "stdout",
     "output_type": "stream",
     "text": [
      "https://netflixtechblog.com/causal-machine-learning-for-creative-insights-4b0ce22a8a96?source=---------8-----------------------\n"
     ]
    }
   ],
   "source": [
    "nexts = outs[-2][1].find_all_next()\n",
    "for n in nexts:\n",
    "    if n.name == \"a\":\n",
    "        print(n['href'])\n",
    "        break"
   ]
  },
  {
   "cell_type": "code",
   "execution_count": 156,
   "metadata": {},
   "outputs": [
    {
     "name": "stdout",
     "output_type": "stream",
     "text": [
      "https://netflixtechblog.com/causal-machine-learning-for-creative-insights-4b0ce22a8a96?source=---------8-----------------------\n"
     ]
    }
   ],
   "source": [
    "prevs = outs[-2][1].find_all_previous()\n",
    "for p in prevs:\n",
    "    if p.name == \"a\":\n",
    "        print(p['href'])\n",
    "        break"
   ]
  },
  {
   "cell_type": "code",
   "execution_count": 190,
   "metadata": {},
   "outputs": [
    {
     "data": {
      "text/plain": [
       "[[('a',\n",
       "   'PostCard_post-card__z_Sqq PostList_post-card__1g0fm s:col-span-6 m:col-span-4'),\n",
       "  (('h3', 'PostCard_post-heading__Ob1pu PostList_post-heading__iL3Su h4'),\n",
       "   ('a',\n",
       "    'PostCard_post-card__z_Sqq PostList_post-card__1g0fm s:col-span-6 m:col-span-4'),\n",
       "   ('', ''),\n",
       "   ('div', 'PostList_post-date__djrOA'))]]"
      ]
     },
     "execution_count": 190,
     "metadata": {},
     "output_type": "execute_result"
    }
   ],
   "source": [
    "r = parser(original_html=html).parsed_data\n",
    "r"
   ]
  },
  {
   "cell_type": "code",
   "execution_count": 195,
   "metadata": {},
   "outputs": [],
   "source": [
    "a, d = r[0]"
   ]
  },
  {
   "cell_type": "code",
   "execution_count": 198,
   "metadata": {},
   "outputs": [
    {
     "data": {
      "text/plain": [
       "101"
      ]
     },
     "execution_count": 198,
     "metadata": {},
     "output_type": "execute_result"
    }
   ],
   "source": [
    "len(soup.find_all(a[0], a[1]))"
   ]
  },
  {
   "cell_type": "code",
   "execution_count": 1,
   "metadata": {},
   "outputs": [
    {
     "name": "stderr",
     "output_type": "stream",
     "text": [
      "c:\\00 My Files\\genai\\up2date\\.venv\\lib\\site-packages\\tqdm\\auto.py:21: TqdmWarning: IProgress not found. Please update jupyter and ipywidgets. See https://ipywidgets.readthedocs.io/en/stable/user_install.html\n",
      "  from .autonotebook import tqdm as notebook_tqdm\n",
      "100%|██████████| 18/18 [01:12<00:00,  4.03s/it]\n",
      "100%|██████████| 15/15 [00:03<00:00,  4.59it/s]\n",
      "100%|██████████| 15/15 [00:20<00:00,  1.35s/it]\n"
     ]
    }
   ],
   "source": [
    "from helper import fetchGoogleAlert, getLinkContent, parseLinkContent, summarizeContent, format_kaveri_newsletter_content, send_email\n",
    "import os\n",
    "\n",
    "rss_feed_url = \"https://www.google.co.in/alerts/feeds/14281887962566473241/5523182970888272628\"\n",
    "\n",
    "google_alert_data = fetchGoogleAlert(rss_feed_url)\n",
    "\n",
    "raw_contents = getLinkContent(google_alert_data)\n",
    "\n",
    "parsed_contents = parseLinkContent(raw_contents)\n",
    "\n",
    "summarised_contents = summarizeContent(parsed_contents)\n",
    "\n",
    "mailing_list = os.getenv(\"KAVERI\").split(\",\")\n",
    "\n",
    "html_formatted_newsletter = format_kaveri_newsletter_content(summarised_contents)"
   ]
  },
  {
   "cell_type": "code",
   "execution_count": 3,
   "metadata": {},
   "outputs": [
    {
     "name": "stdout",
     "output_type": "stream",
     "text": [
      "\n",
      "    <html>\n",
      "    <head>\n",
      "        <style>\n",
      "            body { font-family: Arial, sans-serif; margin: 20px; }\n",
      "            h2 { color: #2a9d8f; }\n",
      "            p { font-size: 16px; line-height: 1.5; color: #333; }\n",
      "            .content-block { border-bottom: 1px solid #ddd; padding-bottom: 15px; margin-bottom: 20px; }\n",
      "            a { text-decoration: none; color: #0077cc; }\n",
      "            a:hover { text-decoration: underline; }\n",
      "        </style>\n",
      "    </head>\n",
      "    <body>\n",
      "        <h1>📰 Indian Equity Market News</h1>\n",
      "        <p>Hey Kaveri, Here's Today's Update on the Indian Equity Markets</p>\n",
      "    \n",
      "        <div class=\"content-block\">\n",
      "            <h2><a href=\"https://www.ndtvprofit.com/markets/great-time-to-buy-indian-stocks-profit-cycle-best-in-asia-jim-walker-who-foresaw-2008-crash\" target=\"_blank\">'Great Time To Buy Indian Stocks, Profit Cycle Best In Asia,' Says Analyst Who Foresaw 2008 Crash</a></h2>\n",
      "            <p>Jim Walker from Aletheia Capital suggests that despite the recent market slump in 2025, India's equity market is still attractive. He recommends buying Indian stocks for long-term gains, citing the country's strong economic outlook, stable macroeconomic policy, and potential for further interest rate cuts.</p>\n",
      "        </div>\n",
      "        \n",
      "        <div class=\"content-block\">\n",
      "            <h2><a href=\"https://www.newindianexpress.com/business/2025/Mar/20/markets-gain-3-in-4-days-but-bulls-stay-cautious\" target=\"_blank\">Markets gain 3% in 4 days, but bulls stay cautious</a></h2>\n",
      "            <p>The Indian equity market has recovered over the past four sessions, with the Sensex and Nifty gaining about 3% each. This surge was influenced by the Federal Reserve's decision to maintain interest rates, bolstering investor confidence. FIIs turned net buyers, but analysts caution that the market is still down from its highs.</p>\n",
      "        </div>\n",
      "        \n",
      "        <div class=\"content-block\">\n",
      "            <h2><a href=\"https://m.economictimes.com/markets/stocks/news/why-stock-market-is-rising-today-sensex-jumps-over-900-pts-nifty-above-23150-4-factors-behind-todays-surge/articleshow/119250207.cms\" target=\"_blank\">Why stock market rose today: Sensex jumps 900 pts; Nifty above 23,150; 4 factors behind today's surge</a></h2>\n",
      "            <p>ETMarkets provides market news, stock tips, and expert advice, accessible on Telegram for fast alerts. Top trending stocks include SBI, Axis Bank, and HDFC Bank. Recent news covers IndusInd Bank's share crash, Sebi's probe into GG Engineering, and mutual fund options. Exclusive offers on ET Prime memberships are available.</p>\n",
      "        </div>\n",
      "        \n",
      "        <div class=\"content-block\">\n",
      "            <h2><a href=\"https://www.outlookbusiness.com/corporate/haier-india-stake-sale-heats-up-tpg-capital-gic-join-indian-giants\" target=\"_blank\">Haier India Stake Sale Heats Up: TPG Capital, GIC Join Indian Giants</a></h2>\n",
      "            <p>Global private equity firms like TPG Capital and GIC are joining Indian family offices to acquire a stake in Haier Appliances India. Haier aims to navigate regulatory challenges and localize ownership by involving Indian investors, following tightened FDI norms. The company is valued at around $2 billion.</p>\n",
      "        </div>\n",
      "        \n",
      "        <div class=\"content-block\">\n",
      "            <h2><a href=\"https://www.moneycontrol.com/news/business/markets/taking-stock-market-rally-continues-on-fourth-day-nifty-crosses-23-200-12970641.html\" target=\"_blank\">Taking Stock: Market rally continues on fourth day; Nifty crosses 23,200</a></h2>\n",
      "            <p>Indian equity markets extended their winning streak, led by positive global cues after the US Federal Reserve held interest rates steady. The Sensex rose 1.19% to 76,348.06, and the Nifty increased 1.24% to 23,190.65, with all sectoral indices in the green. The next target for Nifty is set at 23,400.</p>\n",
      "        </div>\n",
      "        \n",
      "        <div class=\"content-block\">\n",
      "            <h2><a href=\"https://upstox.com/news/market-news/stocks/market-wrap-march-20-indices-extend-gains-to-fourth-day-nifty-50-ends-above-23-200-sensex-zooms-900-points-it-stocks-surge/article-154232/\" target=\"_blank\">Market Wrap, March 20: Indices extend gains to fourth day; NIFTY50 ends above 23,100, SENSEX zooms 900 points, IT stocks surge</a></h2>\n",
      "            <p>The Indian stock market continued its rise for the fourth consecutive session, boosted by the US Federal Reserve's decision and a rally in IT stocks. The S&P BSE SENSEX closed at 76,348.06, up 1.19%, and the NSE's NIFTY50 closed at 23,190.65, up 1.24%.</p>\n",
      "        </div>\n",
      "        \n",
      "        <div class=\"content-block\">\n",
      "            <h2><a href=\"https://upstox.com/news/market-news/stocks/market-opening-bell-nifty-50-reclaims-23-000-level-sensex-jumps-400-points-amid-mixed-global-cues-it-stocks-advance/article-154057/\" target=\"_blank\">Market Opening Bell: NIFTY50 reclaims 23,000 level, SENSEX jumps 400 points amid mixed global cues; IT stocks advance</a></h2>\n",
      "            <p>The Indian stock market opened positively for the fourth consecutive day, with the NIFTY50 reclaiming the 23,000 mark. The S&P BSE SENSEX was up 0.53% and NSE’s NIFTY50 rose 0.48%. Broader market rallying continued, with small-cap stocks surging. Asian markets opened mixed amid steady Chinese lending rates.</p>\n",
      "        </div>\n",
      "        \n",
      "        <div class=\"content-block\">\n",
      "            <h2><a href=\"https://www.businesstoday.in/personal-finance/retirement-planning/story/when-planning-for-retirement-using-sips-is-it-appropriate-to-rely-on-12-return-from-equity-mf-investments-468704-2025-03-20\" target=\"_blank\">When planning for retirement using SIPs, is it appropriate to rely on 12% return from equity MF investments?</a></h2>\n",
      "            <p>Animesh Hardia advises caution when relying on a 12% return from equity investments for retirement planning. Market returns aren't linear, and inflation can erode purchasing power. He suggests running multiple scenarios, building a core of stable investments, diversifying assets, and understanding one's own financial behavior.</p>\n",
      "        </div>\n",
      "        \n",
      "        <div class=\"content-block\">\n",
      "            <h2><a href=\"https://www.businesstoday.in/markets/stocks/story/rites-beml-nfl-hdfc-securities-suggest-3-psu-stocks-to-buy-check-targets-468604-2025-03-20\" target=\"_blank\">RITES, BEML, NFL: HDFC Securities suggest 3 PSU stocks to buy; check targets</a></h2>\n",
      "            <p>HDFC Securities suggests buying shares of National Fertilizers Ltd, BEML Ltd, and RITES Ltd, citing sound technical parameters. The brokerage highlights that the daily RSI for each stock has reached above 50, indicating a sustainable uptrend, and recommends specific target prices and stop-loss levels for each.</p>\n",
      "        </div>\n",
      "        \n",
      "        <div class=\"content-block\">\n",
      "            <h2><a href=\"https://m.economictimes.com/markets/stocks/news/bigger-rout-looming-as-recession-talk-grows-how-indian-stock-market-investors-can-prepare-for-the-worst/articleshow/119238217.cms\" target=\"_blank\">Bigger rout looming? As recession talk grows, how Indian stock market investors can prepare for the worst</a></h2>\n",
      "            <p>ETMarkets provides market news, stock tips, and expert advice, accessible on Telegram for fast alerts. Top trending stocks include SBI, Axis Bank, and HDFC Bank. Recent news covers IndusInd Bank's share crash, Sebi's probe into GG Engineering, and mutual fund options. Exclusive offers on ET Prime memberships are available.</p>\n",
      "        </div>\n",
      "        \n",
      "        <div class=\"content-block\">\n",
      "            <h2><a href=\"https://pib.gov.in/PressReleasePage.aspx%3FPRID%3D2113316\" target=\"_blank\">No Title Found</a></h2>\n",
      "            <p>The article discusses the potential health benefits of coffee, including its ability to lower the risk of type 2 diabetes, protect against liver damage, and reduce the likelihood of developing neurodegenerative diseases. It also highlights the importance of moderate consumption and being mindful of added sugars and unhealthy fats.</p>\n",
      "        </div>\n",
      "        \n",
      "        <div class=\"content-block\">\n",
      "            <h2><a href=\"https://www.personalfn.com/dwl/Mutual-Funds/uti-vs-tata-multi-asset-opp-fund-stable-choices-in-volatile-markets\" target=\"_blank\">UTI vs Tata Multi Asset Opp Fund: Stable Choices in Volatile Markets</a></h2>\n",
      "            <p>The article compares UTI Multi-Asset Allocation Fund and Tata Multi Asset Opp Fund, analyzing their performance, portfolio composition, risk profiles, and expense ratios. It aims to help investors choose the fund that best suits their financial goals and risk tolerance in volatile markets, emphasizing diversification benefits.</p>\n",
      "        </div>\n",
      "        \n",
      "        <div class=\"content-block\">\n",
      "            <h2><a href=\"https://www.samco.in/knowledge-center/articles/fii-buying-returns-what-it-means-for-the-indian-stock-market/\" target=\"_blank\">FII Buying Returns: What It Means for the Indian Stock Market</a></h2>\n",
      "            <p>After months of selling, foreign institutional investors (FIIs) are showing renewed interest in the Indian stock market, becoming net buyers on March 18, 2025. Experts view this as a positive sign for India's growth, reminiscent of rain after a drought, and a potential indicator of market upswing.</p>\n",
      "        </div>\n",
      "        \n",
      "        <div class=\"content-block\">\n",
      "            <h2><a href=\"https://www.thehindu.com/business/markets/markets-climb-for-4th-day-sensex-jumps-899-points-nifty-reclaims-23000-mark/article69353268.ece\" target=\"_blank\">Markets climb for 4th day; Sensex jumps 899 points, Nifty reclaims 23,000-mark</a></h2>\n",
      "            <p>Stock market benchmarks Sensex and Nifty surged over 1% on Thursday, driven by widespread buying amid mixed global cues after the U.S. Federal Reserve maintained its rate cut projections. Market heavyweights like Reliance Industries and IT stocks boosted investor sentiment. The Sensex closed at 76,348.06, and the Nifty finished at 23,190.65.</p>\n",
      "        </div>\n",
      "        \n",
      "        <div class=\"content-block\">\n",
      "            <h2><a href=\"https://www.samco.in/knowledge-center/articles/indian-stock-market-surges-sensex-and-nifty-extend-gains-across-sectors/\" target=\"_blank\">Indian Stock Market Surges: Sensex and Nifty Extend Gains Across Sectors</a></h2>\n",
      "            <p>The Indian stock market closed higher on March 20, with Sensex and Nifty gaining significantly, driven by positive global sentiment. All sectoral indices recorded gains, led by IT and auto sectors. Market breadth was positive, with advancing stocks outnumbering declining ones.</p>\n",
      "        </div>\n",
      "        \n"
     ]
    }
   ],
   "source": [
    "print(html_formatted_newsletter)"
   ]
  },
  {
   "cell_type": "code",
   "execution_count": null,
   "metadata": {},
   "outputs": [],
   "source": []
  }
 ],
 "metadata": {
  "kernelspec": {
   "display_name": ".venv",
   "language": "python",
   "name": "python3"
  },
  "language_info": {
   "codemirror_mode": {
    "name": "ipython",
    "version": 3
   },
   "file_extension": ".py",
   "mimetype": "text/x-python",
   "name": "python",
   "nbconvert_exporter": "python",
   "pygments_lexer": "ipython3",
   "version": "3.10.0"
  }
 },
 "nbformat": 4,
 "nbformat_minor": 2
}
