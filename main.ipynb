{
 "cells": [
  {
   "cell_type": "code",
   "execution_count": 1,
   "metadata": {},
   "outputs": [
    {
     "name": "stderr",
     "output_type": "stream",
     "text": [
      "c:\\00 My Files\\genai\\up2date\\.venv\\lib\\site-packages\\tqdm\\auto.py:21: TqdmWarning: IProgress not found. Please update jupyter and ipywidgets. See https://ipywidgets.readthedocs.io/en/stable/user_install.html\n",
      "  from .autonotebook import tqdm as notebook_tqdm\n"
     ]
    }
   ],
   "source": [
    "from helper import fetchGoogleAlert, getLinkContent, parseLinkContent, summarizeContent, format_newsletter_content, send_email"
   ]
  },
  {
   "cell_type": "code",
   "execution_count": 2,
   "metadata": {},
   "outputs": [],
   "source": [
    "rss_feed_url = 'https://www.google.co.in/alerts/feeds/14281887962566473241/7938470061037680642'"
   ]
  },
  {
   "cell_type": "code",
   "execution_count": 3,
   "metadata": {},
   "outputs": [],
   "source": [
    "google_alert_data = fetchGoogleAlert(rss_feed_url)"
   ]
  },
  {
   "cell_type": "code",
   "execution_count": 4,
   "metadata": {},
   "outputs": [
    {
     "name": "stderr",
     "output_type": "stream",
     "text": [
      "100%|██████████| 19/19 [01:26<00:00,  4.54s/it]\n"
     ]
    }
   ],
   "source": [
    "raw_contents = getLinkContent(google_alert_data)"
   ]
  },
  {
   "cell_type": "code",
   "execution_count": 5,
   "metadata": {},
   "outputs": [
    {
     "name": "stderr",
     "output_type": "stream",
     "text": [
      "100%|██████████| 12/12 [00:00<00:00, 33.15it/s]\n"
     ]
    }
   ],
   "source": [
    "parsed_contents = parseLinkContent(raw_contents)"
   ]
  },
  {
   "cell_type": "code",
   "execution_count": 6,
   "metadata": {},
   "outputs": [
    {
     "name": "stderr",
     "output_type": "stream",
     "text": [
      "Summarizing: 100%|██████████| 12/12 [00:22<00:00,  1.87s/it]\n"
     ]
    }
   ],
   "source": [
    "summarised_contents = summarizeContent(parsed_contents)"
   ]
  },
  {
   "cell_type": "code",
   "execution_count": 7,
   "metadata": {},
   "outputs": [],
   "source": [
    "html_formatted_newsletter = format_newsletter_content(summarised_contents)"
   ]
  },
  {
   "cell_type": "code",
   "execution_count": 8,
   "metadata": {},
   "outputs": [
    {
     "name": "stdout",
     "output_type": "stream",
     "text": [
      "Email sent successfully to shriyans.newsletter@gmail.com\n",
      "Email sent successfully to warale.riddhi22@gmail.com\n"
     ]
    }
   ],
   "source": [
    "send_email(\"shriyans.newsletter@gmail.com\",\n",
    "           \"Daily AI Agents Digest\",\n",
    "           html_formatted_newsletter)\n",
    "\n",
    "send_email(\"warale.riddhi22@gmail.com\",\n",
    "           \"Daily AI Agents Digest\",\n",
    "           html_formatted_newsletter)"
   ]
  },
  {
   "cell_type": "code",
   "execution_count": null,
   "metadata": {},
   "outputs": [],
   "source": []
  }
 ],
 "metadata": {
  "kernelspec": {
   "display_name": ".venv",
   "language": "python",
   "name": "python3"
  },
  "language_info": {
   "codemirror_mode": {
    "name": "ipython",
    "version": 3
   },
   "file_extension": ".py",
   "mimetype": "text/x-python",
   "name": "python",
   "nbconvert_exporter": "python",
   "pygments_lexer": "ipython3",
   "version": "3.10.0"
  }
 },
 "nbformat": 4,
 "nbformat_minor": 2
}
