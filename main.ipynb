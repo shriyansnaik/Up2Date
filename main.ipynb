{
 "cells": [
  {
   "cell_type": "code",
   "execution_count": 1,
   "metadata": {},
   "outputs": [
    {
     "name": "stderr",
     "output_type": "stream",
     "text": [
      "c:\\00 My Files\\genai\\up2date\\.venv\\lib\\site-packages\\tqdm\\auto.py:21: TqdmWarning: IProgress not found. Please update jupyter and ipywidgets. See https://ipywidgets.readthedocs.io/en/stable/user_install.html\n",
      "  from .autonotebook import tqdm as notebook_tqdm\n"
     ]
    }
   ],
   "source": [
    "from helper import fetchGoogleAlert, getLinkContent, parseLinkContent, summarizeContent, format_newsletter_content, send_email"
   ]
  },
  {
   "cell_type": "code",
   "execution_count": 2,
   "metadata": {},
   "outputs": [],
   "source": [
    "rss_feed_url = 'https://www.google.co.in/alerts/feeds/14281887962566473241/7938470061037680642'"
   ]
  },
  {
   "cell_type": "code",
   "execution_count": 3,
   "metadata": {},
   "outputs": [],
   "source": [
    "google_alert_data = fetchGoogleAlert(rss_feed_url)"
   ]
  },
  {
   "cell_type": "code",
   "execution_count": 4,
   "metadata": {},
   "outputs": [
    {
     "name": "stderr",
     "output_type": "stream",
     "text": [
      "100%|██████████| 18/18 [01:25<00:00,  4.76s/it]\n"
     ]
    }
   ],
   "source": [
    "raw_contents = getLinkContent(google_alert_data)"
   ]
  },
  {
   "cell_type": "code",
   "execution_count": 5,
   "metadata": {},
   "outputs": [
    {
     "name": "stderr",
     "output_type": "stream",
     "text": [
      "100%|██████████| 15/15 [00:00<00:00, 27.84it/s]\n"
     ]
    }
   ],
   "source": [
    "parsed_contents = parseLinkContent(raw_contents)"
   ]
  },
  {
   "cell_type": "code",
   "execution_count": 6,
   "metadata": {},
   "outputs": [
    {
     "data": {
      "text/plain": [
       "\"Published on By Rapid advancements in AI have brought about the emergence of AI research agents—tools designed to assist researchers by handling vast amounts of data, automating repetitive tasks, and even generating novel ideas. Among the leading agents includeGoogle’s AI Co-Scientist,OpenAI’s Deep Research, andPerplexity’s Deep Research, each offering distinct approaches to facilitating researchers. This article will provide a comparison of these AI research agents, highlighting their unique features, applications, and potential implications for the future of AI-assisted research. Google's AI Co-Scientist is designed to be a collaborative tool for scientific researchers. It assists in gathering relevant literature, proposing new hypotheses, and suggesting experimental designs. The agent can parse complex research papers and distill them into actionable insights. A key feature of AI Co-Scientist is its integration with Google's research tools and infrastructure, including Google Scholar, Google Cloud, and TensorFlow. This interconnected ecosystem allows the agent to employ a wide range of resources, including powerful machine learning tools and massive computational power, for conducting various research tasks such as data analysis, hypothesis testing, and even literature review automation. It can quickly sift through numerous research papers, summarize key points, and offer suggestions for future research directions. While AI Co-Scientist has impressive capabilities for data processing, literature review and trend analysis, it still relies heavily on human input to generate hypotheses and validate findings. Additionally, the quality of its insights is highly dependent on the datasets it was trained on—or available within the Google ecosystem—and it may face challenges when attempting to make intuitive leaps in areas where data is limited or incomplete. Moreover, the model's dependency on Google's infrastructure may be a limitation for those seeking broader access to other datasets or alternative platforms. However, for those already embedded in the Google ecosystem, the AI Co-Scientist offers immense potential for accelerating research. Unlike Google's AI Co-Scientist, which employs Google’s ecosystem to streamline the research workflow, OpenAI’s Deep Research AI mainly relies on the advanced reasoning capabilities of its GPT-based models to assist researchers. The agent is trained on a vast corpus of scientific literature usingChain-of-Thought reasoningto empower its deeper scientific understanding. It generates highly accurate responses to scientific queries and offers insights grounded in broad scientific knowledge. A key feature of OpenAI’s Deep Research is its ability to read and understand a vast range of scientific literature. This enables it to synthesize knowledge, identify knowledge gaps, formulate complex research questions, and generate scientific research papers. \\xa0Another strength of OpenAI’s system is its ability to solve complex scientific problems and explain its working in a step-by-step manner. Although OpenAI's Deep Research agent is well-trained in understanding and synthesizing existing scientific knowledge, it has some limitations. For one, it relies heavily on the quality of the research it has been trained on. The AI can only generate hypotheses based on the data it has been exposed to, meaning that if the dataset is biased or incomplete, the AI's conclusions may be flawed. Additionally, the agent mainly relies on pre-existing research, which means that it might not always offer the novel, exploratory suggestions that a research assistant like Google’s Co-Scientist can generate. Unlike the above agents, which focus on automating the research workflow, Perplexity's Deep Research distinguishes itself as a search engine designed specifically for scientific discovery. While it shares similarities with Google's AI Co-Scientist and OpenAI's Deep Research in terms of utilizing AI to assist with research, Perplexity strongly emphasizes enhancing the search and discovery process rather than streamlining the entire research process. By employing large-scale AI models, Perplexity aims to help researchers locate the most relevant scientific papers, articles, and datasets quickly and efficiently. The core feature of Perplexity's Deep Research is its ability to understand complex queries and retrieve information that is highly relevant to the user's research needs. Unlike conventional search engines that return a broad array of loosely connected results, Perplexity's AI-powered search engine enables users to engage directly with information, delivering more precise and actionable insights. As Perplexity's Deep Research focuses on knowledge discovery, it has a limited scope as a research agent. Additionally, its focus on niche domains may reduce its versatility compared to other research agents. While Perplexity may not have the same computational power and ecosystem as Google's AI Co-Scientist or the advanced reasoning capabilities of OpenAI's Deep Research, it is still a unique and valuable tool for researchers looking to discover insights from existing knowledge. When evaluating Google’s AI Co-Scientist, OpenAI’s Deep Research, and Perplexity’s Deep Research, it becomes evident that each of these AI research agents serves a unique purpose and excels in specific areas. Google’s AI Co-Scientist is particularly beneficial for researchers who require support in large-scale data analysis, literature reviews, and trend identification. Its seamless integration with Google’s cloud services provides it with exceptional computational power and access to extensive resources. However, while it is highly effective at automating research tasks, it leans more toward task execution rather than creative problem-solving or hypothesis generation. OpenAI’s Deep Research, on the other hand, is a more adaptable AI assistant, designed to engage in deeper reasoning and complex problem-solving. This research agent not only generates innovative research ideas and offers experimental suggestions but also synthesizes knowledge across multiple disciplines. Despite its advanced capabilities, it still necessitates human oversight to validate its findings and ensure the accuracy and relevance of its outputs. Perplexity’s Deep Research differentiates itself by prioritizing knowledge discovery and collaborative exploration. Unlike the other two, it focuses on uncovering hidden insights and facilitating iterative research discussions. This makes it an excellent tool for exploratory and interdisciplinary research. However, its emphasis on knowledge retrieval may limit its effectiveness in tasks such as data analysis or experimental design, where computational power and structured experimentation are required. Choosing the right AI research agent depends on the specific needs of a research project. For data-intensive tasks and experimentation, Google’s AI Co-Scientist stands out as the optimal choice, as it can efficiently handle large datasets and automate literature reviews. Its ability to analyze beyond existing knowledge allows researchers to discover novel insights rather than merely summarizing what is already known. OpenAI’s Deep Research is better suited for those who require an AI assistant capable of synthesizing scientific literature, reading and summarizing research articles, drafting research papers, and generating new hypotheses. Meanwhile, for knowledge discovery and collaboration, Perplexity’s Deep Research excels in retrieving precise and actionable information, making it a valuable tool for researchers seeking the latest insights in their field. Ultimately, these AI research agents provide distinct advantages, and selecting the right one depends on the specific research objectives, whether it involves data processing, literature synthesis, or knowledge discovery. The advent of AI-powered research agents is redefining the process of scientific research. With Google’s AI Co-Scientist, OpenAI’s Deep Research, and Perplexity’s Deep Research, researchers now have tools available to assist them in a range of research tasks. Google's platform uses its vast ecosystem—integrating tools like Google Scholar, Cloud, and TensorFlow—to efficiently handle data-intensive tasks and automate literature reviews. This allows researchers to focus on higher-level analysis and experimental design. In contrast, OpenAI’s Deep Research excels in synthesizing complex scientific literature and generating innovative hypotheses through advanced, chain-of-thought reasoning. Meanwhile, Perplexity’s Deep Research helps deliver precise, actionable insights, making it an invaluable asset for targeted knowledge discovery. By understanding each platform's strengths, researchers can choose the right tool to accelerate their work and drive groundbreaking discoveries. Reinforcement Learning Meets Chain-of-Thought: Transforming LLMs into Autonomous Reasoning Agents Dr. Tehseen Zia is a Tenured Associate Professor at COMSATS University Islamabad, holding a PhD in AI from Vienna University of Technology, Austria. Specializing in Artificial Intelligence, Machine Learning, Data Science, and Computer Vision, he has made significant contributions with publications in reputable scientific journals. Dr. Tehseen has also led various industrial projects as the Principal Investigator and served as an AI Consultant. Google’s AI ‘Co-Scientist’ Tool: Revolutionizing Biomedical Research From Keyword Search to OpenAI’s Deep Research: How AI is Redefining Knowledge Discovery Advertiser Disclosure: Unite.AI is committed to rigorous editorial standards to provide our readers with accurate information and news. We may receive compensation when you click on links to products we reviewed. Copyright © 2025 Unite.AI\""
      ]
     },
     "execution_count": 6,
     "metadata": {},
     "output_type": "execute_result"
    }
   ],
   "source": [
    "parsed_contents[0]['content']['text']"
   ]
  },
  {
   "cell_type": "code",
   "execution_count": 7,
   "metadata": {},
   "outputs": [
    {
     "name": "stderr",
     "output_type": "stream",
     "text": [
      "Summarizing: 100%|██████████| 15/15 [00:00<00:00, 254.68it/s]\n"
     ]
    }
   ],
   "source": [
    "summarised_contents = summarizeContent(parsed_contents)"
   ]
  },
  {
   "cell_type": "code",
   "execution_count": 8,
   "metadata": {},
   "outputs": [],
   "source": [
    "html_formatted_newsletter = format_newsletter_content(summarised_contents)"
   ]
  },
  {
   "cell_type": "code",
   "execution_count": 9,
   "metadata": {},
   "outputs": [
    {
     "name": "stdout",
     "output_type": "stream",
     "text": [
      "Email sent successfully to shriyans.newsletter@gmail.com\n",
      "Email sent successfully to warale.riddhi22@gmail.com\n"
     ]
    }
   ],
   "source": [
    "send_email(\"shriyans.newsletter@gmail.com\",\n",
    "           \"Daily AI Agents Digest\",\n",
    "           html_formatted_newsletter)\n",
    "\n",
    "send_email(\"warale.riddhi22@gmail.com\",\n",
    "           \"Daily AI Agents Digest\",\n",
    "           html_formatted_newsletter)"
   ]
  }
 ],
 "metadata": {
  "kernelspec": {
   "display_name": ".venv",
   "language": "python",
   "name": "python3"
  },
  "language_info": {
   "codemirror_mode": {
    "name": "ipython",
    "version": 3
   },
   "file_extension": ".py",
   "mimetype": "text/x-python",
   "name": "python",
   "nbconvert_exporter": "python",
   "pygments_lexer": "ipython3",
   "version": "3.10.0"
  }
 },
 "nbformat": 4,
 "nbformat_minor": 2
}
